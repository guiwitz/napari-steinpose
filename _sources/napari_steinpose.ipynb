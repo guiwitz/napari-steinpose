{
 "cells": [
  {
   "cell_type": "markdown",
   "id": "303141d4-aa54-4e0c-a9d3-e3ff2405b011",
   "metadata": {},
   "source": [
    "# napari-steinpose"
   ]
  },
  {
   "cell_type": "markdown",
   "id": "216362ac-982b-4b38-89be-c5ca71296982",
   "metadata": {},
   "source": [
    "napari-steinpose is a napari plugin designed to integrate the segmentation capabilities of cellpose and the analysis capabilities of steinbock."
   ]
  },
  {
   "cell_type": "code",
   "execution_count": null,
   "id": "ff8ea332-f72f-4b7e-9abf-b2f82d8f0799",
   "metadata": {},
   "outputs": [],
   "source": []
  }
 ],
 "metadata": {
  "kernelspec": {
   "display_name": "Python 3 (ipykernel)",
   "language": "python",
   "name": "python3"
  },
  "language_info": {
   "codemirror_mode": {
    "name": "ipython",
    "version": 3
   },
   "file_extension": ".py",
   "mimetype": "text/x-python",
   "name": "python",
   "nbconvert_exporter": "python",
   "pygments_lexer": "ipython3",
   "version": "3.9.13"
  }
 },
 "nbformat": 4,
 "nbformat_minor": 5
}
